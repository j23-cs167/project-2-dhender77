{
  "nbformat": 4,
  "nbformat_minor": 0,
  "metadata": {
    "colab": {
      "provenance": [],
      "include_colab_link": true
    },
    "kernelspec": {
      "name": "python3",
      "display_name": "Python 3"
    },
    "language_info": {
      "name": "python"
    },
    "accelerator": "GPU",
    "gpuClass": "standard"
  },
  "cells": [
    {
      "cell_type": "markdown",
      "metadata": {
        "id": "view-in-github",
        "colab_type": "text"
      },
      "source": [
        "<a href=\"https://colab.research.google.com/github/j23-cs167/project-2-dhender77/blob/main/Project2_Henderson.ipynb\" target=\"_parent\"><img src=\"https://colab.research.google.com/assets/colab-badge.svg\" alt=\"Open In Colab\"/></a>"
      ]
    },
    {
      "cell_type": "markdown",
      "source": [
        "# Project #2\n",
        "##Name: Danny Henderson\n",
        "\n",
        "Proposed Points (out of 25): 25"
      ],
      "metadata": {
        "id": "rIepkBIuT_Pl"
      }
    },
    {
      "cell_type": "markdown",
      "source": [
        "# 1. Problem\n",
        "State the problem you are trying to solve with this machine learning experiment. Include a description of the data, where you got the data, and what you're trying to predict.."
      ],
      "metadata": {
        "id": "HbwKLNhzP8YO"
      }
    },
    {
      "cell_type": "markdown",
      "source": [
        "I want to predict a win/loss for Drake given game statistics for each player. It's a dataset of player game logs. It's about 150 rows of data. I'm not expecting the model to be very accurate. However, if the model ends up being pretty accurate, I'll be very interested to see how.\n",
        "\n",
        "I'm curious to see if the model can pick up the importance of which player the line of data is from."
      ],
      "metadata": {
        "id": "4I2LT01Yrnzu"
      }
    },
    {
      "cell_type": "markdown",
      "source": [
        "*your answer here*"
      ],
      "metadata": {
        "id": "LwseoUsMmCz2"
      }
    },
    {
      "cell_type": "markdown",
      "source": [
        "# 2. Data Preparation\n",
        "Explain your data preparation. What did you have to do to get your data in shape for your experiments? Why are you certain that you data is clean and prepared for use in your algorithms?"
      ],
      "metadata": {
        "id": "qR_foVOeQVL7"
      }
    },
    {
      "cell_type": "markdown",
      "source": [
        "*your answer here*"
      ],
      "metadata": {
        "id": "aMDJDnW_mOWu"
      }
    },
    {
      "cell_type": "code",
      "source": [
        "# load and prepare your data here\n",
        "#All of the data is numeric except for our target variable, which is binary. And player name, which I need to make into a dummy variable. \n",
        "from google.colab import drive\n",
        "import pandas as pd\n",
        "drive.mount('/content/drive')\n",
        "data= pd.read_csv('/content/drive/MyDrive/CS 167/Player Log.csv')\n",
        "data.head()\n"
      ],
      "metadata": {
        "id": "9dUdBChRmKxR",
        "colab": {
          "base_uri": "https://localhost:8080/",
          "height": 253
        },
        "outputId": "eef17b24-b0f9-4615-d359-f3a1885c4efa"
      },
      "execution_count": null,
      "outputs": [
        {
          "output_type": "stream",
          "name": "stdout",
          "text": [
            "Drive already mounted at /content/drive; to attempt to forcibly remount, call drive.mount(\"/content/drive\", force_remount=True).\n"
          ]
        },
        {
          "output_type": "execute_result",
          "data": {
            "text/plain": [
              "  Player Result  Min  FG  FGA  3P  3PA  FT  FTA  ORB  ...  STL  PF  TO  PTS  \\\n",
              "0  Roman      W   18   3    7   1    3   2    2    0  ...    2   3   1    9   \n",
              "1  Roman      W   23   4   10   1    1   3    3    0  ...    0   3   2   12   \n",
              "2  Roman      W   18   0    4   0    0   0    1    0  ...    0   3   2    0   \n",
              "3  Roman      W   28   4    7   1    2   5    6    0  ...    0   5   2   14   \n",
              "4  Roman      W   23   1    5   0    2   4    4    0  ...    0   1   3    6   \n",
              "\n",
              "   Deflections  Fouls Drawn  Charges  ORB Allowed  Forced TOV  Points Allowed  \n",
              "0            1            1        1            1           2               4  \n",
              "1            1            2        0            0           0               6  \n",
              "2            0            2        1            2           2               1  \n",
              "3            1            4        1            1           2               8  \n",
              "4            0            4        1            0           1              10  \n",
              "\n",
              "[5 rows x 23 columns]"
            ],
            "text/html": [
              "\n",
              "  <div id=\"df-ed0f3ca6-2014-464e-b2da-58aada24dc4b\">\n",
              "    <div class=\"colab-df-container\">\n",
              "      <div>\n",
              "<style scoped>\n",
              "    .dataframe tbody tr th:only-of-type {\n",
              "        vertical-align: middle;\n",
              "    }\n",
              "\n",
              "    .dataframe tbody tr th {\n",
              "        vertical-align: top;\n",
              "    }\n",
              "\n",
              "    .dataframe thead th {\n",
              "        text-align: right;\n",
              "    }\n",
              "</style>\n",
              "<table border=\"1\" class=\"dataframe\">\n",
              "  <thead>\n",
              "    <tr style=\"text-align: right;\">\n",
              "      <th></th>\n",
              "      <th>Player</th>\n",
              "      <th>Result</th>\n",
              "      <th>Min</th>\n",
              "      <th>FG</th>\n",
              "      <th>FGA</th>\n",
              "      <th>3P</th>\n",
              "      <th>3PA</th>\n",
              "      <th>FT</th>\n",
              "      <th>FTA</th>\n",
              "      <th>ORB</th>\n",
              "      <th>...</th>\n",
              "      <th>STL</th>\n",
              "      <th>PF</th>\n",
              "      <th>TO</th>\n",
              "      <th>PTS</th>\n",
              "      <th>Deflections</th>\n",
              "      <th>Fouls Drawn</th>\n",
              "      <th>Charges</th>\n",
              "      <th>ORB Allowed</th>\n",
              "      <th>Forced TOV</th>\n",
              "      <th>Points Allowed</th>\n",
              "    </tr>\n",
              "  </thead>\n",
              "  <tbody>\n",
              "    <tr>\n",
              "      <th>0</th>\n",
              "      <td>Roman</td>\n",
              "      <td>W</td>\n",
              "      <td>18</td>\n",
              "      <td>3</td>\n",
              "      <td>7</td>\n",
              "      <td>1</td>\n",
              "      <td>3</td>\n",
              "      <td>2</td>\n",
              "      <td>2</td>\n",
              "      <td>0</td>\n",
              "      <td>...</td>\n",
              "      <td>2</td>\n",
              "      <td>3</td>\n",
              "      <td>1</td>\n",
              "      <td>9</td>\n",
              "      <td>1</td>\n",
              "      <td>1</td>\n",
              "      <td>1</td>\n",
              "      <td>1</td>\n",
              "      <td>2</td>\n",
              "      <td>4</td>\n",
              "    </tr>\n",
              "    <tr>\n",
              "      <th>1</th>\n",
              "      <td>Roman</td>\n",
              "      <td>W</td>\n",
              "      <td>23</td>\n",
              "      <td>4</td>\n",
              "      <td>10</td>\n",
              "      <td>1</td>\n",
              "      <td>1</td>\n",
              "      <td>3</td>\n",
              "      <td>3</td>\n",
              "      <td>0</td>\n",
              "      <td>...</td>\n",
              "      <td>0</td>\n",
              "      <td>3</td>\n",
              "      <td>2</td>\n",
              "      <td>12</td>\n",
              "      <td>1</td>\n",
              "      <td>2</td>\n",
              "      <td>0</td>\n",
              "      <td>0</td>\n",
              "      <td>0</td>\n",
              "      <td>6</td>\n",
              "    </tr>\n",
              "    <tr>\n",
              "      <th>2</th>\n",
              "      <td>Roman</td>\n",
              "      <td>W</td>\n",
              "      <td>18</td>\n",
              "      <td>0</td>\n",
              "      <td>4</td>\n",
              "      <td>0</td>\n",
              "      <td>0</td>\n",
              "      <td>0</td>\n",
              "      <td>1</td>\n",
              "      <td>0</td>\n",
              "      <td>...</td>\n",
              "      <td>0</td>\n",
              "      <td>3</td>\n",
              "      <td>2</td>\n",
              "      <td>0</td>\n",
              "      <td>0</td>\n",
              "      <td>2</td>\n",
              "      <td>1</td>\n",
              "      <td>2</td>\n",
              "      <td>2</td>\n",
              "      <td>1</td>\n",
              "    </tr>\n",
              "    <tr>\n",
              "      <th>3</th>\n",
              "      <td>Roman</td>\n",
              "      <td>W</td>\n",
              "      <td>28</td>\n",
              "      <td>4</td>\n",
              "      <td>7</td>\n",
              "      <td>1</td>\n",
              "      <td>2</td>\n",
              "      <td>5</td>\n",
              "      <td>6</td>\n",
              "      <td>0</td>\n",
              "      <td>...</td>\n",
              "      <td>0</td>\n",
              "      <td>5</td>\n",
              "      <td>2</td>\n",
              "      <td>14</td>\n",
              "      <td>1</td>\n",
              "      <td>4</td>\n",
              "      <td>1</td>\n",
              "      <td>1</td>\n",
              "      <td>2</td>\n",
              "      <td>8</td>\n",
              "    </tr>\n",
              "    <tr>\n",
              "      <th>4</th>\n",
              "      <td>Roman</td>\n",
              "      <td>W</td>\n",
              "      <td>23</td>\n",
              "      <td>1</td>\n",
              "      <td>5</td>\n",
              "      <td>0</td>\n",
              "      <td>2</td>\n",
              "      <td>4</td>\n",
              "      <td>4</td>\n",
              "      <td>0</td>\n",
              "      <td>...</td>\n",
              "      <td>0</td>\n",
              "      <td>1</td>\n",
              "      <td>3</td>\n",
              "      <td>6</td>\n",
              "      <td>0</td>\n",
              "      <td>4</td>\n",
              "      <td>1</td>\n",
              "      <td>0</td>\n",
              "      <td>1</td>\n",
              "      <td>10</td>\n",
              "    </tr>\n",
              "  </tbody>\n",
              "</table>\n",
              "<p>5 rows × 23 columns</p>\n",
              "</div>\n",
              "      <button class=\"colab-df-convert\" onclick=\"convertToInteractive('df-ed0f3ca6-2014-464e-b2da-58aada24dc4b')\"\n",
              "              title=\"Convert this dataframe to an interactive table.\"\n",
              "              style=\"display:none;\">\n",
              "        \n",
              "  <svg xmlns=\"http://www.w3.org/2000/svg\" height=\"24px\"viewBox=\"0 0 24 24\"\n",
              "       width=\"24px\">\n",
              "    <path d=\"M0 0h24v24H0V0z\" fill=\"none\"/>\n",
              "    <path d=\"M18.56 5.44l.94 2.06.94-2.06 2.06-.94-2.06-.94-.94-2.06-.94 2.06-2.06.94zm-11 1L8.5 8.5l.94-2.06 2.06-.94-2.06-.94L8.5 2.5l-.94 2.06-2.06.94zm10 10l.94 2.06.94-2.06 2.06-.94-2.06-.94-.94-2.06-.94 2.06-2.06.94z\"/><path d=\"M17.41 7.96l-1.37-1.37c-.4-.4-.92-.59-1.43-.59-.52 0-1.04.2-1.43.59L10.3 9.45l-7.72 7.72c-.78.78-.78 2.05 0 2.83L4 21.41c.39.39.9.59 1.41.59.51 0 1.02-.2 1.41-.59l7.78-7.78 2.81-2.81c.8-.78.8-2.07 0-2.86zM5.41 20L4 18.59l7.72-7.72 1.47 1.35L5.41 20z\"/>\n",
              "  </svg>\n",
              "      </button>\n",
              "      \n",
              "  <style>\n",
              "    .colab-df-container {\n",
              "      display:flex;\n",
              "      flex-wrap:wrap;\n",
              "      gap: 12px;\n",
              "    }\n",
              "\n",
              "    .colab-df-convert {\n",
              "      background-color: #E8F0FE;\n",
              "      border: none;\n",
              "      border-radius: 50%;\n",
              "      cursor: pointer;\n",
              "      display: none;\n",
              "      fill: #1967D2;\n",
              "      height: 32px;\n",
              "      padding: 0 0 0 0;\n",
              "      width: 32px;\n",
              "    }\n",
              "\n",
              "    .colab-df-convert:hover {\n",
              "      background-color: #E2EBFA;\n",
              "      box-shadow: 0px 1px 2px rgba(60, 64, 67, 0.3), 0px 1px 3px 1px rgba(60, 64, 67, 0.15);\n",
              "      fill: #174EA6;\n",
              "    }\n",
              "\n",
              "    [theme=dark] .colab-df-convert {\n",
              "      background-color: #3B4455;\n",
              "      fill: #D2E3FC;\n",
              "    }\n",
              "\n",
              "    [theme=dark] .colab-df-convert:hover {\n",
              "      background-color: #434B5C;\n",
              "      box-shadow: 0px 1px 3px 1px rgba(0, 0, 0, 0.15);\n",
              "      filter: drop-shadow(0px 1px 2px rgba(0, 0, 0, 0.3));\n",
              "      fill: #FFFFFF;\n",
              "    }\n",
              "  </style>\n",
              "\n",
              "      <script>\n",
              "        const buttonEl =\n",
              "          document.querySelector('#df-ed0f3ca6-2014-464e-b2da-58aada24dc4b button.colab-df-convert');\n",
              "        buttonEl.style.display =\n",
              "          google.colab.kernel.accessAllowed ? 'block' : 'none';\n",
              "\n",
              "        async function convertToInteractive(key) {\n",
              "          const element = document.querySelector('#df-ed0f3ca6-2014-464e-b2da-58aada24dc4b');\n",
              "          const dataTable =\n",
              "            await google.colab.kernel.invokeFunction('convertToInteractive',\n",
              "                                                     [key], {});\n",
              "          if (!dataTable) return;\n",
              "\n",
              "          const docLinkHtml = 'Like what you see? Visit the ' +\n",
              "            '<a target=\"_blank\" href=https://colab.research.google.com/notebooks/data_table.ipynb>data table notebook</a>'\n",
              "            + ' to learn more about interactive tables.';\n",
              "          element.innerHTML = '';\n",
              "          dataTable['output_type'] = 'display_data';\n",
              "          await google.colab.output.renderOutput(dataTable, element);\n",
              "          const docLink = document.createElement('div');\n",
              "          docLink.innerHTML = docLinkHtml;\n",
              "          element.appendChild(docLink);\n",
              "        }\n",
              "      </script>\n",
              "    </div>\n",
              "  </div>\n",
              "  "
            ]
          },
          "metadata": {},
          "execution_count": 3
        }
      ]
    },
    {
      "cell_type": "code",
      "source": [
        "data.isna().any()\n",
        "#No NA's"
      ],
      "metadata": {
        "colab": {
          "base_uri": "https://localhost:8080/"
        },
        "id": "Bwpnu6NuBLCx",
        "outputId": "5217aea5-8fc5-4815-b11b-8848f15f2584"
      },
      "execution_count": null,
      "outputs": [
        {
          "output_type": "execute_result",
          "data": {
            "text/plain": [
              "Player            False\n",
              "Result            False\n",
              "Min               False\n",
              "FG                False\n",
              "FGA               False\n",
              "3P                False\n",
              "3PA               False\n",
              "FT                False\n",
              "FTA               False\n",
              "ORB               False\n",
              "DRB               False\n",
              "AST               False\n",
              "BLK               False\n",
              "STL               False\n",
              "PF                False\n",
              "TO                False\n",
              "PTS               False\n",
              "Deflections       False\n",
              "Fouls Drawn       False\n",
              "Charges           False\n",
              "ORB Allowed       False\n",
              "Forced TOV        False\n",
              "Points Allowed    False\n",
              "dtype: bool"
            ]
          },
          "metadata": {},
          "execution_count": 4
        }
      ]
    },
    {
      "cell_type": "code",
      "source": [
        "data = pd.get_dummies(data, columns=['Player'])\n",
        "data.head()"
      ],
      "metadata": {
        "colab": {
          "base_uri": "https://localhost:8080/",
          "height": 317
        },
        "id": "d0HTQXatBiab",
        "outputId": "ada117dc-1900-4141-c48c-59d14f659b56"
      },
      "execution_count": null,
      "outputs": [
        {
          "output_type": "execute_result",
          "data": {
            "text/plain": [
              "  Result  Min  FG  FGA  3P  3PA  FT  FTA  ORB  DRB  ...  Points Allowed  \\\n",
              "0      W   18   3    7   1    3   2    2    0    3  ...               4   \n",
              "1      W   23   4   10   1    1   3    3    0    2  ...               6   \n",
              "2      W   18   0    4   0    0   0    1    0    4  ...               1   \n",
              "3      W   28   4    7   1    2   5    6    0    4  ...               8   \n",
              "4      W   23   1    5   0    2   4    4    0    3  ...              10   \n",
              "\n",
              "   Player_Brodie  Player_Conor  Player_DJ  Player_Eric  Player_Nate  \\\n",
              "0              0             0          0            0            0   \n",
              "1              0             0          0            0            0   \n",
              "2              0             0          0            0            0   \n",
              "3              0             0          0            0            0   \n",
              "4              0             0          0            0            0   \n",
              "\n",
              "   Player_Roman  Player_Sardaar  Player_Sturtz  Player_Tucker  \n",
              "0             1               0              0              0  \n",
              "1             1               0              0              0  \n",
              "2             1               0              0              0  \n",
              "3             1               0              0              0  \n",
              "4             1               0              0              0  \n",
              "\n",
              "[5 rows x 31 columns]"
            ],
            "text/html": [
              "\n",
              "  <div id=\"df-82755f41-ae42-4e64-bac2-ddb6195dd4db\">\n",
              "    <div class=\"colab-df-container\">\n",
              "      <div>\n",
              "<style scoped>\n",
              "    .dataframe tbody tr th:only-of-type {\n",
              "        vertical-align: middle;\n",
              "    }\n",
              "\n",
              "    .dataframe tbody tr th {\n",
              "        vertical-align: top;\n",
              "    }\n",
              "\n",
              "    .dataframe thead th {\n",
              "        text-align: right;\n",
              "    }\n",
              "</style>\n",
              "<table border=\"1\" class=\"dataframe\">\n",
              "  <thead>\n",
              "    <tr style=\"text-align: right;\">\n",
              "      <th></th>\n",
              "      <th>Result</th>\n",
              "      <th>Min</th>\n",
              "      <th>FG</th>\n",
              "      <th>FGA</th>\n",
              "      <th>3P</th>\n",
              "      <th>3PA</th>\n",
              "      <th>FT</th>\n",
              "      <th>FTA</th>\n",
              "      <th>ORB</th>\n",
              "      <th>DRB</th>\n",
              "      <th>...</th>\n",
              "      <th>Points Allowed</th>\n",
              "      <th>Player_Brodie</th>\n",
              "      <th>Player_Conor</th>\n",
              "      <th>Player_DJ</th>\n",
              "      <th>Player_Eric</th>\n",
              "      <th>Player_Nate</th>\n",
              "      <th>Player_Roman</th>\n",
              "      <th>Player_Sardaar</th>\n",
              "      <th>Player_Sturtz</th>\n",
              "      <th>Player_Tucker</th>\n",
              "    </tr>\n",
              "  </thead>\n",
              "  <tbody>\n",
              "    <tr>\n",
              "      <th>0</th>\n",
              "      <td>W</td>\n",
              "      <td>18</td>\n",
              "      <td>3</td>\n",
              "      <td>7</td>\n",
              "      <td>1</td>\n",
              "      <td>3</td>\n",
              "      <td>2</td>\n",
              "      <td>2</td>\n",
              "      <td>0</td>\n",
              "      <td>3</td>\n",
              "      <td>...</td>\n",
              "      <td>4</td>\n",
              "      <td>0</td>\n",
              "      <td>0</td>\n",
              "      <td>0</td>\n",
              "      <td>0</td>\n",
              "      <td>0</td>\n",
              "      <td>1</td>\n",
              "      <td>0</td>\n",
              "      <td>0</td>\n",
              "      <td>0</td>\n",
              "    </tr>\n",
              "    <tr>\n",
              "      <th>1</th>\n",
              "      <td>W</td>\n",
              "      <td>23</td>\n",
              "      <td>4</td>\n",
              "      <td>10</td>\n",
              "      <td>1</td>\n",
              "      <td>1</td>\n",
              "      <td>3</td>\n",
              "      <td>3</td>\n",
              "      <td>0</td>\n",
              "      <td>2</td>\n",
              "      <td>...</td>\n",
              "      <td>6</td>\n",
              "      <td>0</td>\n",
              "      <td>0</td>\n",
              "      <td>0</td>\n",
              "      <td>0</td>\n",
              "      <td>0</td>\n",
              "      <td>1</td>\n",
              "      <td>0</td>\n",
              "      <td>0</td>\n",
              "      <td>0</td>\n",
              "    </tr>\n",
              "    <tr>\n",
              "      <th>2</th>\n",
              "      <td>W</td>\n",
              "      <td>18</td>\n",
              "      <td>0</td>\n",
              "      <td>4</td>\n",
              "      <td>0</td>\n",
              "      <td>0</td>\n",
              "      <td>0</td>\n",
              "      <td>1</td>\n",
              "      <td>0</td>\n",
              "      <td>4</td>\n",
              "      <td>...</td>\n",
              "      <td>1</td>\n",
              "      <td>0</td>\n",
              "      <td>0</td>\n",
              "      <td>0</td>\n",
              "      <td>0</td>\n",
              "      <td>0</td>\n",
              "      <td>1</td>\n",
              "      <td>0</td>\n",
              "      <td>0</td>\n",
              "      <td>0</td>\n",
              "    </tr>\n",
              "    <tr>\n",
              "      <th>3</th>\n",
              "      <td>W</td>\n",
              "      <td>28</td>\n",
              "      <td>4</td>\n",
              "      <td>7</td>\n",
              "      <td>1</td>\n",
              "      <td>2</td>\n",
              "      <td>5</td>\n",
              "      <td>6</td>\n",
              "      <td>0</td>\n",
              "      <td>4</td>\n",
              "      <td>...</td>\n",
              "      <td>8</td>\n",
              "      <td>0</td>\n",
              "      <td>0</td>\n",
              "      <td>0</td>\n",
              "      <td>0</td>\n",
              "      <td>0</td>\n",
              "      <td>1</td>\n",
              "      <td>0</td>\n",
              "      <td>0</td>\n",
              "      <td>0</td>\n",
              "    </tr>\n",
              "    <tr>\n",
              "      <th>4</th>\n",
              "      <td>W</td>\n",
              "      <td>23</td>\n",
              "      <td>1</td>\n",
              "      <td>5</td>\n",
              "      <td>0</td>\n",
              "      <td>2</td>\n",
              "      <td>4</td>\n",
              "      <td>4</td>\n",
              "      <td>0</td>\n",
              "      <td>3</td>\n",
              "      <td>...</td>\n",
              "      <td>10</td>\n",
              "      <td>0</td>\n",
              "      <td>0</td>\n",
              "      <td>0</td>\n",
              "      <td>0</td>\n",
              "      <td>0</td>\n",
              "      <td>1</td>\n",
              "      <td>0</td>\n",
              "      <td>0</td>\n",
              "      <td>0</td>\n",
              "    </tr>\n",
              "  </tbody>\n",
              "</table>\n",
              "<p>5 rows × 31 columns</p>\n",
              "</div>\n",
              "      <button class=\"colab-df-convert\" onclick=\"convertToInteractive('df-82755f41-ae42-4e64-bac2-ddb6195dd4db')\"\n",
              "              title=\"Convert this dataframe to an interactive table.\"\n",
              "              style=\"display:none;\">\n",
              "        \n",
              "  <svg xmlns=\"http://www.w3.org/2000/svg\" height=\"24px\"viewBox=\"0 0 24 24\"\n",
              "       width=\"24px\">\n",
              "    <path d=\"M0 0h24v24H0V0z\" fill=\"none\"/>\n",
              "    <path d=\"M18.56 5.44l.94 2.06.94-2.06 2.06-.94-2.06-.94-.94-2.06-.94 2.06-2.06.94zm-11 1L8.5 8.5l.94-2.06 2.06-.94-2.06-.94L8.5 2.5l-.94 2.06-2.06.94zm10 10l.94 2.06.94-2.06 2.06-.94-2.06-.94-.94-2.06-.94 2.06-2.06.94z\"/><path d=\"M17.41 7.96l-1.37-1.37c-.4-.4-.92-.59-1.43-.59-.52 0-1.04.2-1.43.59L10.3 9.45l-7.72 7.72c-.78.78-.78 2.05 0 2.83L4 21.41c.39.39.9.59 1.41.59.51 0 1.02-.2 1.41-.59l7.78-7.78 2.81-2.81c.8-.78.8-2.07 0-2.86zM5.41 20L4 18.59l7.72-7.72 1.47 1.35L5.41 20z\"/>\n",
              "  </svg>\n",
              "      </button>\n",
              "      \n",
              "  <style>\n",
              "    .colab-df-container {\n",
              "      display:flex;\n",
              "      flex-wrap:wrap;\n",
              "      gap: 12px;\n",
              "    }\n",
              "\n",
              "    .colab-df-convert {\n",
              "      background-color: #E8F0FE;\n",
              "      border: none;\n",
              "      border-radius: 50%;\n",
              "      cursor: pointer;\n",
              "      display: none;\n",
              "      fill: #1967D2;\n",
              "      height: 32px;\n",
              "      padding: 0 0 0 0;\n",
              "      width: 32px;\n",
              "    }\n",
              "\n",
              "    .colab-df-convert:hover {\n",
              "      background-color: #E2EBFA;\n",
              "      box-shadow: 0px 1px 2px rgba(60, 64, 67, 0.3), 0px 1px 3px 1px rgba(60, 64, 67, 0.15);\n",
              "      fill: #174EA6;\n",
              "    }\n",
              "\n",
              "    [theme=dark] .colab-df-convert {\n",
              "      background-color: #3B4455;\n",
              "      fill: #D2E3FC;\n",
              "    }\n",
              "\n",
              "    [theme=dark] .colab-df-convert:hover {\n",
              "      background-color: #434B5C;\n",
              "      box-shadow: 0px 1px 3px 1px rgba(0, 0, 0, 0.15);\n",
              "      filter: drop-shadow(0px 1px 2px rgba(0, 0, 0, 0.3));\n",
              "      fill: #FFFFFF;\n",
              "    }\n",
              "  </style>\n",
              "\n",
              "      <script>\n",
              "        const buttonEl =\n",
              "          document.querySelector('#df-82755f41-ae42-4e64-bac2-ddb6195dd4db button.colab-df-convert');\n",
              "        buttonEl.style.display =\n",
              "          google.colab.kernel.accessAllowed ? 'block' : 'none';\n",
              "\n",
              "        async function convertToInteractive(key) {\n",
              "          const element = document.querySelector('#df-82755f41-ae42-4e64-bac2-ddb6195dd4db');\n",
              "          const dataTable =\n",
              "            await google.colab.kernel.invokeFunction('convertToInteractive',\n",
              "                                                     [key], {});\n",
              "          if (!dataTable) return;\n",
              "\n",
              "          const docLinkHtml = 'Like what you see? Visit the ' +\n",
              "            '<a target=\"_blank\" href=https://colab.research.google.com/notebooks/data_table.ipynb>data table notebook</a>'\n",
              "            + ' to learn more about interactive tables.';\n",
              "          element.innerHTML = '';\n",
              "          dataTable['output_type'] = 'display_data';\n",
              "          await google.colab.output.renderOutput(dataTable, element);\n",
              "          const docLink = document.createElement('div');\n",
              "          docLink.innerHTML = docLinkHtml;\n",
              "          element.appendChild(docLink);\n",
              "        }\n",
              "      </script>\n",
              "    </div>\n",
              "  </div>\n",
              "  "
            ]
          },
          "metadata": {},
          "execution_count": 5
        }
      ]
    },
    {
      "cell_type": "code",
      "source": [
        "from sklearn.model_selection import train_test_split\n",
        "from sklearn.ensemble import RandomForestClassifier\n",
        "from sklearn.metrics import accuracy_score\n",
        "from sklearn.metrics import confusion_matrix\n",
        "\n",
        "\n",
        "predictors = data.columns.drop('Result')\n",
        "target = \"Result\"\n",
        "\n",
        "train_data, test_data, train_sln, test_sln = train_test_split(data[predictors], data[target], test_size = 0.2, random_state=41)\n",
        "#Normalize Data\n",
        "from sklearn.preprocessing import StandardScaler\n",
        "scaler = StandardScaler()\n",
        "scaler.fit(train_data)\n",
        "train_data = scaler.transform(train_data)\n",
        "test_data = scaler.transform(test_data)\n",
        "train_sln.hist()"
      ],
      "metadata": {
        "colab": {
          "base_uri": "https://localhost:8080/",
          "height": 282
        },
        "id": "-k998m9bBw28",
        "outputId": "68b1231a-d0ec-4ba8-fc69-2b4eda8ce2e7"
      },
      "execution_count": null,
      "outputs": [
        {
          "output_type": "execute_result",
          "data": {
            "text/plain": [
              "<matplotlib.axes._subplots.AxesSubplot at 0x7f12ddb3eeb0>"
            ]
          },
          "metadata": {},
          "execution_count": 6
        },
        {
          "output_type": "display_data",
          "data": {
            "text/plain": [
              "<Figure size 432x288 with 1 Axes>"
            ],
            "image/png": "[encoded data removed]"
          },
          "metadata": {
            "needs_background": "light"
          }
        }
      ]
    },
    {
      "cell_type": "markdown",
      "source": [
        "# 3. Research\n",
        "\n",
        "Put your code and your experiments here."
      ],
      "metadata": {
        "id": "Hc7HMmNPR10W"
      }
    },
    {
      "cell_type": "code",
      "source": [
        "# code goes here... don't forget to include graphs. Professor Urness loves graphs.\n",
        "#I'll start with an SVM\n",
        "from sklearn.svm import SVC\n",
        "from sklearn import metrics\n",
        "clf = SVC()\n",
        "clf.fit(train_data,train_sln)\n",
        "predictions = clf.predict(test_data)\n",
        "print(\"Accuracy:\", accuracy_score(test_sln, predictions))\n",
        "vals = data[target].unique() ## possible classification values\n",
        "conf_mat = metrics.confusion_matrix(test_sln, predictions, labels=vals)\n",
        "print(pd.DataFrame(conf_mat, index = \"Actual \" + vals, columns = \"Pred \" + vals))\n"
      ],
      "metadata": {
        "id": "XfaACsEOR4U5",
        "colab": {
          "base_uri": "https://localhost:8080/"
        },
        "outputId": "54dd1a6f-14d0-4c5c-c0d9-d8ac911edeb5"
      },
      "execution_count": null,
      "outputs": [
        {
          "output_type": "stream",
          "name": "stdout",
          "text": [
            "Accuracy: 0.78125\n",
            "          Pred W  Pred L\n",
            "Actual W      25       0\n",
            "Actual L       7       0\n"
          ]
        }
      ]
    },
    {
      "cell_type": "code",
      "source": [
        "x = 15\n",
        "series = []\n",
        "for i in range(1,x):\n",
        "  clf = SVC(kernel = 'rbf', C = i)\n",
        "  clf.fit(train_data,train_sln)\n",
        "  predictions = clf.predict(test_data)\n",
        "  val = accuracy_score(test_sln, predictions)\n",
        "  series.append(val)\n",
        "\n",
        "import matplotlib.pyplot as plt\n",
        "%matplotlib inline\n",
        "xvals = range(1, x)\n",
        "plt.suptitle('Accuracy', fontsize=18)\n",
        "plt.xlabel('C Value')\n",
        "plt.ylabel('SVC Accuracy')\n",
        "plt.plot(xvals, series, 'r,-', label='Accuracy')\n",
        "plt.legend(loc='lower right', shadow=True)\n",
        "plt.axis([1, x, 0, 1])\n",
        "plt.show()"
      ],
      "metadata": {
        "colab": {
          "base_uri": "https://localhost:8080/",
          "height": 308
        },
        "id": "Js1oGCyLCnny",
        "outputId": "ba906bc7-8be3-4b91-802c-4eea9b168711"
      },
      "execution_count": null,
      "outputs": [
        {
          "output_type": "display_data",
          "data": {
            "text/plain": [
              "<Figure size 432x288 with 1 Axes>"
            ],
            "image/png": "[encoded data removed]"
          },
          "metadata": {
            "needs_background": "light"
          }
        }
      ]
    },
    {
      "cell_type": "code",
      "source": [
        "clf_t = SVC(kernel = 'rbf', C = 2 )\n",
        "clf_t.fit(train_data,train_sln)\n",
        "predictions = clf_t.predict(test_data)\n",
        "print(\"Accuracy:\", accuracy_score(test_sln, predictions))\n",
        "vals = data[target].unique() ## possible classification values\n",
        "conf_mat = metrics.confusion_matrix(test_sln, predictions, labels=vals)\n",
        "print(pd.DataFrame(conf_mat, index = \"Actual \" + vals, columns = \"Pred \" + vals))\n",
        "\n",
        "#Well that didn't work"
      ],
      "metadata": {
        "colab": {
          "base_uri": "https://localhost:8080/"
        },
        "id": "B5Rrk_LxEhhR",
        "outputId": "85f2e7b6-f33e-47c1-cad0-572e826712fa"
      },
      "execution_count": null,
      "outputs": [
        {
          "output_type": "stream",
          "name": "stdout",
          "text": [
            "Accuracy: 0.78125\n",
            "          Pred W  Pred L\n",
            "Actual W      25       0\n",
            "Actual L       7       0\n"
          ]
        }
      ]
    },
    {
      "cell_type": "code",
      "source": [
        "from sklearn.linear_model import Perceptron\n",
        "import warnings\n",
        "warnings.filterwarnings(\"ignore\")\n",
        "perc = Perceptron()\n",
        "perc.fit(train_data,train_sln)\n",
        "perc_predictions = perc.predict(test_data)\n",
        "\n",
        "#output accuracy\n",
        "print(\"Accuracy:\", metrics.accuracy_score(test_sln, perc_predictions))\n",
        "vals = data[target].unique() ## possible classification values\n",
        "conf_mat = metrics.confusion_matrix(test_sln, perc_predictions, labels=vals)\n",
        "print(pd.DataFrame(conf_mat, index = \"Actual \" + vals, columns = \"Pred \" + vals))"
      ],
      "metadata": {
        "colab": {
          "base_uri": "https://localhost:8080/"
        },
        "id": "KQ77jGSyFHvc",
        "outputId": "2e033f80-d7c6-495b-dbd5-cc2621a7eb24"
      },
      "execution_count": null,
      "outputs": [
        {
          "output_type": "stream",
          "name": "stdout",
          "text": [
            "Accuracy: 0.53125\n",
            "          Pred W  Pred L\n",
            "Actual W      13      12\n",
            "Actual L       3       4\n"
          ]
        }
      ]
    },
    {
      "cell_type": "code",
      "source": [
        "x = 100\n",
        "series1 = []\n",
        "for i in range(1,x):\n",
        "  perc = Perceptron(max_iter = i)\n",
        "  perc.fit(train_data,train_sln)\n",
        "  perc_predictions = perc.predict(test_data)\n",
        "  val = metrics.accuracy_score(test_sln, perc_predictions)\n",
        "  series1.append(val)\n",
        "\n",
        "import matplotlib.pyplot as plt\n",
        "%matplotlib inline\n",
        "xvals = range(1, x)\n",
        "plt.suptitle('Perceptron Accuracy', fontsize=18)\n",
        "plt.xlabel('Epochs')\n",
        "plt.ylabel('Perceptron Accuracy')\n",
        "plt.plot(xvals, series1, 'r,-', label='Accuracy')\n",
        "plt.legend(loc='lower right', shadow=True)\n",
        "plt.axis([1, x, .4, 1])\n",
        "plt.show()"
      ],
      "metadata": {
        "colab": {
          "base_uri": "https://localhost:8080/",
          "height": 308
        },
        "id": "jhMOtzRZFM0i",
        "outputId": "eaa6286e-ccf5-458d-f4b9-19447dea8183"
      },
      "execution_count": null,
      "outputs": [
        {
          "output_type": "display_data",
          "data": {
            "text/plain": [
              "<Figure size 432x288 with 1 Axes>"
            ],
            "image/png": "[encoded data removed]"
          },
          "metadata": {
            "needs_background": "light"
          }
        }
      ]
    },
    {
      "cell_type": "code",
      "source": [
        "perc = Perceptron(max_iter = 5)\n",
        "perc.fit(train_data,train_sln)\n",
        "perc_predictions = perc.predict(test_data)\n",
        "\n",
        "#output accuracy\n",
        "print(\"Accuracy:\", metrics.accuracy_score(test_sln, perc_predictions))\n",
        "vals = data[target].unique() ## possible classification values\n",
        "conf_mat = metrics.confusion_matrix(test_sln, perc_predictions, labels=vals)\n",
        "print(pd.DataFrame(conf_mat, index = \"Actual \" + vals, columns = \"Pred \" + vals))\n",
        "\n",
        "#well that was even worse"
      ],
      "metadata": {
        "colab": {
          "base_uri": "https://localhost:8080/"
        },
        "id": "rGr2HcFnFvNf",
        "outputId": "1f66d7f7-c535-4d73-9dd3-c1c71b0b5f6f"
      },
      "execution_count": null,
      "outputs": [
        {
          "output_type": "stream",
          "name": "stdout",
          "text": [
            "Accuracy: 0.53125\n",
            "          Pred W  Pred L\n",
            "Actual W      17       8\n",
            "Actual L       7       0\n"
          ]
        }
      ]
    },
    {
      "cell_type": "code",
      "source": [
        "from sklearn.linear_model import SGDClassifier\n",
        "sgd = SGDClassifier()\n",
        "sgd.fit(train_data,train_sln)\n",
        "sgd_predictions = sgd.predict(test_data)\n",
        "print(\"Accuracy:\", metrics.accuracy_score(test_sln, sgd_predictions ))\n",
        "vals = data[target].unique() ## possible classification values\n",
        "conf_mat = metrics.confusion_matrix(test_sln, sgd_predictions, labels=vals)\n",
        "print(pd.DataFrame(conf_mat, index = \"Actual \" + vals, columns = \"Pred \" + vals))"
      ],
      "metadata": {
        "colab": {
          "base_uri": "https://localhost:8080/"
        },
        "id": "w7luZ7M6F4Co",
        "outputId": "60281a8a-1b31-4637-9156-047fbbffb3d2"
      },
      "execution_count": null,
      "outputs": [
        {
          "output_type": "stream",
          "name": "stdout",
          "text": [
            "Accuracy: 0.6875\n",
            "          Pred W  Pred L\n",
            "Actual W      18       7\n",
            "Actual L       3       4\n"
          ]
        }
      ]
    },
    {
      "cell_type": "code",
      "source": [
        "x  = 15\n",
        "series2 = []\n",
        "for i in range(1,x):\n",
        "  sgd = SGDClassifier(max_iter = i)\n",
        "  sgd.fit(train_data,train_sln)\n",
        "  sgd_predictions = sgd.predict(test_data)\n",
        "  val = metrics.accuracy_score(test_sln, sgd_predictions )\n",
        "  series2.append(val)\n",
        "\n",
        "import matplotlib.pyplot as plt\n",
        "%matplotlib inline\n",
        "xvals = range(1, x)\n",
        "plt.suptitle('SGD Accuracy', fontsize=18)\n",
        "plt.xlabel('Epochs')\n",
        "plt.ylabel('Accuracy')\n",
        "plt.plot(xvals, series2, 'r,-', label='Accuracy')\n",
        "plt.legend(loc='lower right', shadow=True)\n",
        "plt.axis([1, x, .5, 1])\n",
        "plt.show()"
      ],
      "metadata": {
        "colab": {
          "base_uri": "https://localhost:8080/",
          "height": 308
        },
        "id": "e1AYauAZGEf0",
        "outputId": "1809ab6f-78eb-40ba-b24b-e74976d657e4"
      },
      "execution_count": null,
      "outputs": [
        {
          "output_type": "display_data",
          "data": {
            "text/plain": [
              "<Figure size 432x288 with 1 Axes>"
            ],
            "image/png": "[encoded data removed]"
          },
          "metadata": {
            "needs_background": "light"
          }
        }
      ]
    },
    {
      "cell_type": "code",
      "source": [
        "sgd = SGDClassifier(max_iter = 2)\n",
        "sgd.fit(train_data,train_sln)\n",
        "sgd_predictions = sgd.predict(test_data)\n",
        "print(\"Accuracy:\", metrics.accuracy_score(test_sln, sgd_predictions ))\n",
        "vals = data[target].unique() ## possible classification values\n",
        "conf_mat = metrics.confusion_matrix(test_sln, sgd_predictions, labels=vals)\n",
        "print(pd.DataFrame(conf_mat, index = \"Actual \" + vals, columns = \"Pred \" + vals))\n",
        "\n",
        "#Gives a different accuracy regardless of tuning\n",
        "#I'll go with the SGD to run Principal component analysis over"
      ],
      "metadata": {
        "colab": {
          "base_uri": "https://localhost:8080/"
        },
        "id": "F7i4veM2Ga_2",
        "outputId": "7ee1328a-22ce-4a6f-f886-9c89f6665b3d"
      },
      "execution_count": null,
      "outputs": [
        {
          "output_type": "stream",
          "name": "stdout",
          "text": [
            "Accuracy: 0.59375\n",
            "          Pred W  Pred L\n",
            "Actual W      14      11\n",
            "Actual L       2       5\n"
          ]
        }
      ]
    },
    {
      "cell_type": "code",
      "source": [
        "from sklearn.decomposition import PCA\n",
        "\n",
        "x = 10\n",
        "series4 = []\n",
        "for i in range(1,x):\n",
        "  extractor = PCA(n_components= i, whiten=True)\n",
        "  #When fitting with PCA, you do not use the target column - this is an unsupervised learning algorithm\n",
        "  extractor.fit(train_data)\n",
        "  train_transformed = extractor.transform(train_data)\n",
        "  test_transformed = extractor.transform(test_data)\n",
        "  sgd = SGDClassifier(max_iter = 2)\n",
        "  sgd.fit(train_transformed,train_sln)\n",
        "  sgd_predictions = sgd.predict(test_transformed)\n",
        "  val = metrics.accuracy_score(test_sln, perc_predictions)\n",
        "  series4.append(val)\n",
        "\n",
        "import matplotlib.pyplot as plt\n",
        "%matplotlib inline\n",
        "xvals = range(1, x)\n",
        "plt.suptitle('PCA SGD Accuracy', fontsize=18)\n",
        "plt.xlabel('Components')\n",
        "plt.ylabel('Accuracy')\n",
        "plt.plot(xvals, series4, 'r,-', label='Accuracy')\n",
        "plt.legend(loc='lower right', shadow=True)\n",
        "plt.axis([1, x, .5, 1])\n",
        "plt.show()"
      ],
      "metadata": {
        "colab": {
          "base_uri": "https://localhost:8080/",
          "height": 308
        },
        "id": "5qHUkEUuHpT3",
        "outputId": "5ddf5b33-ce71-4b9e-a4bc-8230b6ef2854"
      },
      "execution_count": null,
      "outputs": [
        {
          "output_type": "display_data",
          "data": {
            "text/plain": [
              "<Figure size 432x288 with 1 Axes>"
            ],
            "image/png": "[encoded data removed]"
          },
          "metadata": {
            "needs_background": "light"
          }
        }
      ]
    },
    {
      "cell_type": "markdown",
      "source": [
        "#4. Analysis\n",
        "\n",
        "What did you discover? What insights/recommendations do you have? What did you find that was interesting? Which model was your best model, which models didn't work well? Why do you think this is? In general, I want a discussion of your experiment, the results, and what they mean."
      ],
      "metadata": {
        "id": "2Qu9bYPLmiv_"
      }
    },
    {
      "cell_type": "markdown",
      "source": [
        "*your answer here*\n",
        "\n",
        "My analysis is that nothing worked at all. I think it's possible that things would be more accurate if there was more data. My read on these types of deep learning is that the point is to correctly predict something. I think my two projects have shown how unpredictable sports are, especially college basketball. Regardless of the conditions of a possession, or the game logs of individual player, you still can't predict such unpredictable outcomes. The SVM was the most accurate because it figured out the way to maximize accuracy was to just predict that the outcome was a win every time. This is smart on the machine's part, because we've won 13 out of our 19 games. I'd like to do data analytics in sports, and I think I've gathered from this class that you're probably not going to have very high accuracy predicting things in sports that involve human error and variability. Moving forward I'm going to try using the player as the target to see if I can prove a point to the coaches."
      ],
      "metadata": {
        "id": "k17sKBZUmqIH"
      }
    },
    {
      "cell_type": "markdown",
      "source": [
        "# 5. Bumps in the Road\n",
        "What challenges did you encounter? How did you overcome these challenges?"
      ],
      "metadata": {
        "id": "TemAuKxlm6dQ"
      }
    },
    {
      "cell_type": "markdown",
      "source": [
        "*your answer here*\n",
        "\n",
        "The only challenge I really encountered was that tuning my models didn't improve anything. I overcame this by accepting why this was."
      ],
      "metadata": {
        "id": "zXEVEG9FnHgQ"
      }
    }
  ]
}